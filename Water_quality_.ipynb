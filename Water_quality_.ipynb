{
 "cells": [
  {
   "cell_type": "markdown",
   "id": "240d587e",
   "metadata": {},
   "source": [
    "# Water quality classification\n"
   ]
  },
  {
   "cell_type": "markdown",
   "id": "9089be28",
   "metadata": {},
   "source": [
    "\"A challenge from kaggle website\""
   ]
  },
  {
   "cell_type": "markdown",
   "id": "0233e3a6",
   "metadata": {},
   "source": [
    "https://www.kaggle.com/datasets/abhishekkhanna004/water-quality-dataset-for-crop"
   ]
  },
  {
   "cell_type": "markdown",
   "id": "4a3b8d97",
   "metadata": {},
   "source": [
    "Importing needed modules :"
   ]
  },
  {
   "cell_type": "code",
   "execution_count": 1460,
   "id": "105818dc",
   "metadata": {},
   "outputs": [],
   "source": [
    "from pandas import read_csv , DataFrame\n",
    "from sklearn.preprocessing import StandardScaler \n",
    "from sklearn.model_selection import train_test_split\n",
    "from sklearn.ensemble import RandomForestClassifier\n",
    "from random import shuffle\n",
    "scaler = StandardScaler()"
   ]
  },
  {
   "cell_type": "markdown",
   "id": "130294c5",
   "metadata": {},
   "source": [
    "Task 1 :"
   ]
  },
  {
   "cell_type": "markdown",
   "id": "4d291887",
   "metadata": {},
   "source": [
    "Reading csv file from directory and do some analyze on that."
   ]
  },
  {
   "cell_type": "code",
   "execution_count": 1461,
   "id": "e8bce7c8",
   "metadata": {
    "scrolled": true
   },
   "outputs": [
    {
     "data": {
      "text/html": [
       "<div>\n",
       "<style scoped>\n",
       "    .dataframe tbody tr th:only-of-type {\n",
       "        vertical-align: middle;\n",
       "    }\n",
       "\n",
       "    .dataframe tbody tr th {\n",
       "        vertical-align: top;\n",
       "    }\n",
       "\n",
       "    .dataframe thead th {\n",
       "        text-align: right;\n",
       "    }\n",
       "</style>\n",
       "<table border=\"1\" class=\"dataframe\">\n",
       "  <thead>\n",
       "    <tr style=\"text-align: right;\">\n",
       "      <th></th>\n",
       "      <th>ph</th>\n",
       "      <th>Hardness</th>\n",
       "      <th>Solids</th>\n",
       "      <th>Chloramines</th>\n",
       "      <th>Sulfate</th>\n",
       "      <th>Organic_carbon</th>\n",
       "      <th>Trihalomethanes</th>\n",
       "      <th>Turbidity</th>\n",
       "      <th>Check</th>\n",
       "    </tr>\n",
       "  </thead>\n",
       "  <tbody>\n",
       "    <tr>\n",
       "      <th>820</th>\n",
       "      <td>NaN</td>\n",
       "      <td>175.708553</td>\n",
       "      <td>25954.03176</td>\n",
       "      <td>6.229322</td>\n",
       "      <td>346.225062</td>\n",
       "      <td>13.636910</td>\n",
       "      <td>50.590765</td>\n",
       "      <td>2.951396</td>\n",
       "      <td>0</td>\n",
       "    </tr>\n",
       "    <tr>\n",
       "      <th>2890</th>\n",
       "      <td>4.004248</td>\n",
       "      <td>210.486009</td>\n",
       "      <td>32821.85009</td>\n",
       "      <td>6.868438</td>\n",
       "      <td>NaN</td>\n",
       "      <td>14.504058</td>\n",
       "      <td>58.514082</td>\n",
       "      <td>4.445946</td>\n",
       "      <td>0</td>\n",
       "    </tr>\n",
       "    <tr>\n",
       "      <th>30</th>\n",
       "      <td>7.181449</td>\n",
       "      <td>209.625600</td>\n",
       "      <td>15196.22999</td>\n",
       "      <td>5.994679</td>\n",
       "      <td>338.336431</td>\n",
       "      <td>7.922598</td>\n",
       "      <td>71.537953</td>\n",
       "      <td>5.088860</td>\n",
       "      <td>0</td>\n",
       "    </tr>\n",
       "    <tr>\n",
       "      <th>2259</th>\n",
       "      <td>7.855906</td>\n",
       "      <td>209.751802</td>\n",
       "      <td>19850.18289</td>\n",
       "      <td>8.038872</td>\n",
       "      <td>300.292954</td>\n",
       "      <td>18.525207</td>\n",
       "      <td>57.238874</td>\n",
       "      <td>4.151890</td>\n",
       "      <td>0</td>\n",
       "    </tr>\n",
       "    <tr>\n",
       "      <th>552</th>\n",
       "      <td>7.220166</td>\n",
       "      <td>204.768391</td>\n",
       "      <td>15658.08628</td>\n",
       "      <td>3.842732</td>\n",
       "      <td>NaN</td>\n",
       "      <td>15.150582</td>\n",
       "      <td>64.989116</td>\n",
       "      <td>4.398685</td>\n",
       "      <td>0</td>\n",
       "    </tr>\n",
       "    <tr>\n",
       "      <th>2989</th>\n",
       "      <td>3.678432</td>\n",
       "      <td>187.496704</td>\n",
       "      <td>23103.41044</td>\n",
       "      <td>7.145145</td>\n",
       "      <td>NaN</td>\n",
       "      <td>10.140068</td>\n",
       "      <td>67.456180</td>\n",
       "      <td>4.480109</td>\n",
       "      <td>0</td>\n",
       "    </tr>\n",
       "    <tr>\n",
       "      <th>760</th>\n",
       "      <td>7.581945</td>\n",
       "      <td>193.286463</td>\n",
       "      <td>21675.68287</td>\n",
       "      <td>9.821499</td>\n",
       "      <td>381.930744</td>\n",
       "      <td>16.109169</td>\n",
       "      <td>92.609084</td>\n",
       "      <td>4.833346</td>\n",
       "      <td>1</td>\n",
       "    </tr>\n",
       "    <tr>\n",
       "      <th>2924</th>\n",
       "      <td>7.833980</td>\n",
       "      <td>203.169408</td>\n",
       "      <td>11174.27476</td>\n",
       "      <td>6.246502</td>\n",
       "      <td>394.890809</td>\n",
       "      <td>16.276592</td>\n",
       "      <td>47.931639</td>\n",
       "      <td>4.254477</td>\n",
       "      <td>0</td>\n",
       "    </tr>\n",
       "    <tr>\n",
       "      <th>2938</th>\n",
       "      <td>6.392760</td>\n",
       "      <td>216.675543</td>\n",
       "      <td>19323.67725</td>\n",
       "      <td>5.906405</td>\n",
       "      <td>283.205517</td>\n",
       "      <td>14.982646</td>\n",
       "      <td>41.586606</td>\n",
       "      <td>4.421528</td>\n",
       "      <td>0</td>\n",
       "    </tr>\n",
       "    <tr>\n",
       "      <th>1313</th>\n",
       "      <td>NaN</td>\n",
       "      <td>193.926180</td>\n",
       "      <td>14936.50397</td>\n",
       "      <td>7.203401</td>\n",
       "      <td>309.447432</td>\n",
       "      <td>12.180626</td>\n",
       "      <td>NaN</td>\n",
       "      <td>4.297914</td>\n",
       "      <td>0</td>\n",
       "    </tr>\n",
       "  </tbody>\n",
       "</table>\n",
       "</div>"
      ],
      "text/plain": [
       "            ph    Hardness       Solids  ...  Trihalomethanes  Turbidity  Check\n",
       "820        NaN  175.708553  25954.03176  ...        50.590765   2.951396      0\n",
       "2890  4.004248  210.486009  32821.85009  ...        58.514082   4.445946      0\n",
       "30    7.181449  209.625600  15196.22999  ...        71.537953   5.088860      0\n",
       "2259  7.855906  209.751802  19850.18289  ...        57.238874   4.151890      0\n",
       "552   7.220166  204.768391  15658.08628  ...        64.989116   4.398685      0\n",
       "2989  3.678432  187.496704  23103.41044  ...        67.456180   4.480109      0\n",
       "760   7.581945  193.286463  21675.68287  ...        92.609084   4.833346      1\n",
       "2924  7.833980  203.169408  11174.27476  ...        47.931639   4.254477      0\n",
       "2938  6.392760  216.675543  19323.67725  ...        41.586606   4.421528      0\n",
       "1313       NaN  193.926180  14936.50397  ...              NaN   4.297914      0\n",
       "\n",
       "[10 rows x 9 columns]"
      ]
     },
     "execution_count": 1461,
     "metadata": {},
     "output_type": "execute_result"
    }
   ],
   "source": [
    "path = \"D:\\\\datasets\\\\Water_quality_\\\\water_quality_.csv\"\n",
    "file = read_csv(path)\n",
    "df = file.copy()\n",
    "df.sample(10)"
   ]
  },
  {
   "cell_type": "code",
   "execution_count": 1462,
   "id": "e68d6478",
   "metadata": {},
   "outputs": [
    {
     "name": "stdout",
     "output_type": "stream",
     "text": [
      "<class 'pandas.core.frame.DataFrame'>\n",
      "RangeIndex: 3276 entries, 0 to 3275\n",
      "Data columns (total 9 columns):\n",
      " #   Column           Non-Null Count  Dtype  \n",
      "---  ------           --------------  -----  \n",
      " 0   ph               2785 non-null   float64\n",
      " 1   Hardness         3276 non-null   float64\n",
      " 2   Solids           3276 non-null   float64\n",
      " 3   Chloramines      3276 non-null   float64\n",
      " 4   Sulfate          2495 non-null   float64\n",
      " 5   Organic_carbon   3276 non-null   float64\n",
      " 6   Trihalomethanes  3114 non-null   float64\n",
      " 7   Turbidity        3276 non-null   float64\n",
      " 8   Check            3276 non-null   int64  \n",
      "dtypes: float64(8), int64(1)\n",
      "memory usage: 230.5 KB\n"
     ]
    }
   ],
   "source": [
    "df.info()"
   ]
  },
  {
   "cell_type": "code",
   "execution_count": 1463,
   "id": "344f9e11",
   "metadata": {},
   "outputs": [
    {
     "data": {
      "text/plain": [
       "ph                 491\n",
       "Hardness             0\n",
       "Solids               0\n",
       "Chloramines          0\n",
       "Sulfate            781\n",
       "Organic_carbon       0\n",
       "Trihalomethanes    162\n",
       "Turbidity            0\n",
       "Check                0\n",
       "dtype: int64"
      ]
     },
     "execution_count": 1463,
     "metadata": {},
     "output_type": "execute_result"
    }
   ],
   "source": [
    "df.isnull().sum()"
   ]
  },
  {
   "cell_type": "code",
   "execution_count": 1464,
   "id": "ca83e717",
   "metadata": {},
   "outputs": [],
   "source": [
    "df = df.dropna()"
   ]
  },
  {
   "cell_type": "code",
   "execution_count": 1465,
   "id": "a6eab562",
   "metadata": {},
   "outputs": [
    {
     "data": {
      "text/plain": [
       "ph                 0\n",
       "Hardness           0\n",
       "Solids             0\n",
       "Chloramines        0\n",
       "Sulfate            0\n",
       "Organic_carbon     0\n",
       "Trihalomethanes    0\n",
       "Turbidity          0\n",
       "Check              0\n",
       "dtype: int64"
      ]
     },
     "execution_count": 1465,
     "metadata": {},
     "output_type": "execute_result"
    }
   ],
   "source": [
    "df.isnull().sum()"
   ]
  },
  {
   "cell_type": "code",
   "execution_count": 1466,
   "id": "16932e8d",
   "metadata": {},
   "outputs": [],
   "source": [
    "df_arr = df.to_numpy()\n",
    "shuffle(df_arr)\n",
    "df = DataFrame(df_arr,columns=df.columns)"
   ]
  },
  {
   "cell_type": "code",
   "execution_count": 1467,
   "id": "3a807670",
   "metadata": {},
   "outputs": [],
   "source": [
    "label = df.Check\n",
    "df = df.drop(['Check'],axis=1)"
   ]
  },
  {
   "cell_type": "markdown",
   "id": "7a68a861",
   "metadata": {},
   "source": [
    "Task 2 :"
   ]
  },
  {
   "cell_type": "markdown",
   "id": "1d9946d7",
   "metadata": {},
   "source": [
    "Scaling entire dataset."
   ]
  },
  {
   "cell_type": "code",
   "execution_count": 1468,
   "id": "6d43b363",
   "metadata": {},
   "outputs": [],
   "source": [
    "scaled_df = DataFrame(scaler.fit_transform(df),columns=df.columns)"
   ]
  },
  {
   "cell_type": "code",
   "execution_count": 1469,
   "id": "3455c497",
   "metadata": {},
   "outputs": [
    {
     "name": "stdout",
     "output_type": "stream",
     "text": [
      "<class 'pandas.core.frame.DataFrame'>\n",
      "RangeIndex: 2011 entries, 0 to 2010\n",
      "Data columns (total 8 columns):\n",
      " #   Column           Non-Null Count  Dtype  \n",
      "---  ------           --------------  -----  \n",
      " 0   ph               2011 non-null   float64\n",
      " 1   Hardness         2011 non-null   float64\n",
      " 2   Solids           2011 non-null   float64\n",
      " 3   Chloramines      2011 non-null   float64\n",
      " 4   Sulfate          2011 non-null   float64\n",
      " 5   Organic_carbon   2011 non-null   float64\n",
      " 6   Trihalomethanes  2011 non-null   float64\n",
      " 7   Turbidity        2011 non-null   float64\n",
      "dtypes: float64(8)\n",
      "memory usage: 125.8 KB\n"
     ]
    }
   ],
   "source": [
    "scaled_df.info()"
   ]
  },
  {
   "cell_type": "code",
   "execution_count": 1470,
   "id": "654118f7",
   "metadata": {},
   "outputs": [
    {
     "name": "stdout",
     "output_type": "stream",
     "text": [
      "Percent of label one is : 32.123321730482346 and percent of label zero is : 67.87667826951765\n"
     ]
    }
   ],
   "source": [
    "message = f'Percent of label one is : {(label.to_list().count(1)*100)/len(label)} and percent of label zero is : {(label.to_list().count(0)*100)/len(label)}'\n",
    "print(message)"
   ]
  },
  {
   "cell_type": "markdown",
   "id": "0e622695",
   "metadata": {},
   "source": [
    "Task 3 :"
   ]
  },
  {
   "cell_type": "markdown",
   "id": "376e851e",
   "metadata": {},
   "source": [
    "Splitting datas to train set and validation set."
   ]
  },
  {
   "cell_type": "code",
   "execution_count": 1516,
   "id": "feb5d478",
   "metadata": {},
   "outputs": [],
   "source": [
    "xtr , xts , ytr , yts = train_test_split(scaled_df,label,test_size=0.01,random_state=42)"
   ]
  },
  {
   "cell_type": "code",
   "execution_count": 1517,
   "id": "9beb58f3",
   "metadata": {},
   "outputs": [
    {
     "name": "stdout",
     "output_type": "stream",
     "text": [
      "1990\n",
      "21\n"
     ]
    }
   ],
   "source": [
    "print(len(xtr))\n",
    "print(len(xts))"
   ]
  },
  {
   "cell_type": "markdown",
   "id": "9b1b7232",
   "metadata": {},
   "source": [
    "Final task :"
   ]
  },
  {
   "cell_type": "markdown",
   "id": "93c66e37",
   "metadata": {},
   "source": [
    "Training datas and getting scores."
   ]
  },
  {
   "cell_type": "code",
   "execution_count": 1523,
   "id": "9208ab01",
   "metadata": {},
   "outputs": [],
   "source": [
    "model = RandomForestClassifier(criterion='entropy',\n",
    "                               n_estimators=600,\n",
    "                               max_features=None)"
   ]
  },
  {
   "cell_type": "code",
   "execution_count": 1524,
   "id": "bfefb30f",
   "metadata": {},
   "outputs": [
    {
     "data": {
      "text/plain": [
       "RandomForestClassifier(criterion='entropy', max_features=None, n_estimators=600)"
      ]
     },
     "execution_count": 1524,
     "metadata": {},
     "output_type": "execute_result"
    }
   ],
   "source": [
    "model.fit(xtr,ytr)"
   ]
  },
  {
   "cell_type": "code",
   "execution_count": 1525,
   "id": "9fd9d769",
   "metadata": {},
   "outputs": [
    {
     "data": {
      "text/plain": [
       "100.0"
      ]
     },
     "execution_count": 1525,
     "metadata": {},
     "output_type": "execute_result"
    }
   ],
   "source": [
    "model.score(xtr,ytr)*100"
   ]
  },
  {
   "cell_type": "code",
   "execution_count": 1526,
   "id": "2a8508a3",
   "metadata": {},
   "outputs": [
    {
     "data": {
      "text/plain": [
       "95.23809523809523"
      ]
     },
     "execution_count": 1526,
     "metadata": {},
     "output_type": "execute_result"
    }
   ],
   "source": [
    "model.score(xts,yts)*100"
   ]
  },
  {
   "cell_type": "code",
   "execution_count": 1527,
   "id": "399c1955",
   "metadata": {},
   "outputs": [
    {
     "data": {
      "text/plain": [
       "100.0"
      ]
     },
     "execution_count": 1527,
     "metadata": {},
     "output_type": "execute_result"
    }
   ],
   "source": [
    "model.fit(scaled_df,label)\n",
    "model.score(scaled_df,label)*100"
   ]
  },
  {
   "cell_type": "code",
   "execution_count": null,
   "id": "9cef13c6",
   "metadata": {},
   "outputs": [],
   "source": []
  }
 ],
 "metadata": {
  "kernelspec": {
   "display_name": "Python 3 (ipykernel)",
   "language": "python",
   "name": "python3"
  },
  "language_info": {
   "codemirror_mode": {
    "name": "ipython",
    "version": 3
   },
   "file_extension": ".py",
   "mimetype": "text/x-python",
   "name": "python",
   "nbconvert_exporter": "python",
   "pygments_lexer": "ipython3",
   "version": "3.9.13"
  }
 },
 "nbformat": 4,
 "nbformat_minor": 5
}
